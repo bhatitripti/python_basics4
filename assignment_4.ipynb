{
 "cells": [
  {
   "cell_type": "markdown",
   "id": "98296277",
   "metadata": {},
   "source": [
    "1. What exactly is []?\\\n",
    " Ans.\\\n",
    "    [] is an empty list.\n"
   ]
  },
  {
   "cell_type": "markdown",
   "id": "9fa39f00",
   "metadata": {},
   "source": [
    "2. In a list of values stored in a variable called spam, how would you assign the value 'hello' as the third value? (Assume [2, 4, 6, 8, 10] are in spam.\n"
   ]
  },
  {
   "cell_type": "code",
   "execution_count": 16,
   "id": "733b8842",
   "metadata": {},
   "outputs": [
    {
     "data": {
      "text/plain": [
       "[2, 4, 'hello', 8, 10]"
      ]
     },
     "execution_count": 16,
     "metadata": {},
     "output_type": "execute_result"
    }
   ],
   "source": [
    "spam=[2,4,6,8,10]\n",
    "spam[2]=\"hello\"\n",
    "spam"
   ]
  },
  {
   "cell_type": "markdown",
   "id": "0ed79bfe",
   "metadata": {},
   "source": [
    "Let's pretend the spam includes the list ['a', 'b', 'c', 'd'] for the next three queries.\n",
    "3. What is the value of spam[int(int('3' * 2) / 11)]?"
   ]
  },
  {
   "cell_type": "code",
   "execution_count": 17,
   "id": "367b750c",
   "metadata": {},
   "outputs": [
    {
     "data": {
      "text/plain": [
       "'d'"
      ]
     },
     "execution_count": 17,
     "metadata": {},
     "output_type": "execute_result"
    }
   ],
   "source": [
    "spam=['a','b','c','d']\n",
    "spam[int(int('3'*2)/11)] "
   ]
  },
  {
   "cell_type": "markdown",
   "id": "20ea722e",
   "metadata": {},
   "source": [
    "4. What is the value of spam[-1]?"
   ]
  },
  {
   "cell_type": "code",
   "execution_count": 18,
   "id": "5fb38ea6",
   "metadata": {},
   "outputs": [
    {
     "data": {
      "text/plain": [
       "'d'"
      ]
     },
     "execution_count": 18,
     "metadata": {},
     "output_type": "execute_result"
    }
   ],
   "source": [
    "spam[-1]  #last element of list"
   ]
  },
  {
   "cell_type": "markdown",
   "id": "f700d7e9",
   "metadata": {},
   "source": [
    "5. What is the value of spam[:2]?"
   ]
  },
  {
   "cell_type": "code",
   "execution_count": 19,
   "id": "3fc53284",
   "metadata": {},
   "outputs": [
    {
     "data": {
      "text/plain": [
       "['a', 'b']"
      ]
     },
     "execution_count": 19,
     "metadata": {},
     "output_type": "execute_result"
    }
   ],
   "source": [
    "spam[:2] #element starting from 0 index to index 2 not including 2nd index value"
   ]
  },
  {
   "cell_type": "markdown",
   "id": "3073976a",
   "metadata": {},
   "source": [
    "Let's pretend bacon has the list [3.14, 'cat,' 11, 'cat,' True] for the next three questions.\n",
    "6. What is the value of bacon.index('cat')?"
   ]
  },
  {
   "cell_type": "code",
   "execution_count": 22,
   "id": "d7c9fb62",
   "metadata": {},
   "outputs": [
    {
     "data": {
      "text/plain": [
       "1"
      ]
     },
     "execution_count": 22,
     "metadata": {},
     "output_type": "execute_result"
    }
   ],
   "source": [
    "bacon=[3.14,'cat',11,'cat',True]\n",
    "bacon.index(\"cat\")"
   ]
  },
  {
   "cell_type": "markdown",
   "id": "368607d4",
   "metadata": {},
   "source": [
    "7. How does bacon.append(99) change the look of the list value in bacon?"
   ]
  },
  {
   "cell_type": "code",
   "execution_count": 24,
   "id": "940bb883",
   "metadata": {},
   "outputs": [
    {
     "data": {
      "text/plain": [
       "[3.14, 'cat', 11, 'cat', True, 99, 99]"
      ]
     },
     "execution_count": 24,
     "metadata": {},
     "output_type": "execute_result"
    }
   ],
   "source": [
    "bacon.append(99)\n",
    "bacon"
   ]
  },
  {
   "cell_type": "markdown",
   "id": "1cd11981",
   "metadata": {},
   "source": [
    "8. How does bacon.remove('cat') change the look of the list in bacon?"
   ]
  },
  {
   "cell_type": "code",
   "execution_count": 26,
   "id": "72839ec5",
   "metadata": {},
   "outputs": [
    {
     "data": {
      "text/plain": [
       "[3.14, 11, True, 99, 99]"
      ]
     },
     "execution_count": 26,
     "metadata": {},
     "output_type": "execute_result"
    }
   ],
   "source": [
    "bacon.remove('cat')\n",
    "bacon"
   ]
  },
  {
   "cell_type": "markdown",
   "id": "739593b0",
   "metadata": {},
   "source": [
    "9. What are the list concatenation and list replication operators?"
   ]
  },
  {
   "cell_type": "markdown",
   "id": "f4340f00",
   "metadata": {},
   "source": [
    "list concatenation operator:\\\n",
    "+\\\n",
    "list replication operator:\\\n",
    "*"
   ]
  },
  {
   "cell_type": "markdown",
   "id": "74dc07ca",
   "metadata": {},
   "source": [
    "10. What is difference between the list methods append() and insert()?"
   ]
  },
  {
   "cell_type": "markdown",
   "id": "f446f5d9",
   "metadata": {},
   "source": [
    "append():\\\n",
    "This function is used to add values at the end of list(last index of list).\\\n",
    "It requires only one argument(value that we want to add)\\\n",
    "insert():\\\n",
    "This function is used to add values at specific index of list.\\\n",
    "It takes two arguments; first the index value and second is value we want to add.\\\n",
    "Example:"
   ]
  },
  {
   "cell_type": "code",
   "execution_count": 42,
   "id": "9a48aaa4",
   "metadata": {},
   "outputs": [
    {
     "data": {
      "text/plain": [
       "[20, 1, 2, 3, 4]"
      ]
     },
     "execution_count": 42,
     "metadata": {},
     "output_type": "execute_result"
    }
   ],
   "source": [
    "l=[1,2,3]\n",
    "l.append(4)\n",
    "l.insert(0,20)\n",
    "l"
   ]
  },
  {
   "cell_type": "markdown",
   "id": "e4a5e3a5",
   "metadata": {},
   "source": [
    "11. What are the two methods for removing items from a list?"
   ]
  },
  {
   "cell_type": "markdown",
   "id": "025184f0",
   "metadata": {},
   "source": [
    "pop():\\\n",
    "It removes value from specific index of list. if the index value is not specified it deletes last element of list i.e. by default index values is last index of a list.\\\n",
    "remove():\\\n",
    "It deletes the specified value from a list.\\\n",
    "Example:"
   ]
  },
  {
   "cell_type": "code",
   "execution_count": 43,
   "id": "c3bc8bc6",
   "metadata": {},
   "outputs": [
    {
     "data": {
      "text/plain": [
       "[1, 3, 4]"
      ]
     },
     "execution_count": 43,
     "metadata": {},
     "output_type": "execute_result"
    }
   ],
   "source": [
    "l.pop(2)\n",
    "l.remove(20)\n",
    "l"
   ]
  },
  {
   "cell_type": "markdown",
   "id": "dbc3b8ff",
   "metadata": {},
   "source": [
    "12. Describe how list values and string values are identical."
   ]
  },
  {
   "cell_type": "code",
   "execution_count": 49,
   "id": "e9bd14d3",
   "metadata": {},
   "outputs": [
    {
     "name": "stdout",
     "output_type": "stream",
     "text": [
      "length of s= 4 \n",
      "length of l= 3\n"
     ]
    }
   ],
   "source": [
    "#Both lists and strings can be passed to len() function\n",
    "s=\"Trip\"\n",
    "l1=[1,2,3]\n",
    "print(\"length of s=\",len(s),\"\\nlength of l=\",len(l))"
   ]
  },
  {
   "cell_type": "code",
   "execution_count": 54,
   "id": "92e70d76",
   "metadata": {},
   "outputs": [
    {
     "name": "stdout",
     "output_type": "stream",
     "text": [
      "2 i\n",
      "[1, 2] rip\n"
     ]
    }
   ],
   "source": [
    "#list and String both have indexes and slices\n",
    "print(l1[1],s[2])\n",
    "print(l1[:2],s[1:])"
   ]
  },
  {
   "cell_type": "code",
   "execution_count": 56,
   "id": "1810fb1c",
   "metadata": {},
   "outputs": [
    {
     "name": "stdout",
     "output_type": "stream",
     "text": [
      "T\n",
      "r\n",
      "i\n",
      "p\n",
      "1\n",
      "2\n",
      "3\n"
     ]
    }
   ],
   "source": [
    "#be used in for loops and can be used with in and not keywords. In other words both are iterables\n",
    "for i in s:\n",
    "    print(i)\n",
    "for i in l1:\n",
    "    print(i)"
   ]
  },
  {
   "cell_type": "code",
   "execution_count": 65,
   "id": "0bb322c9",
   "metadata": {},
   "outputs": [
    {
     "name": "stdout",
     "output_type": "stream",
     "text": [
      "[11, 22, 33, 1, 2, 3] [11, 22, 33, 11, 22, 33]\n",
      "Trip was great \n",
      "TripTripTrip\n"
     ]
    }
   ],
   "source": [
    "#be concatenated or replicated\n",
    "l2=[11,22,33]\n",
    "print(l2+l1,l2*2)\n",
    "s1=\" was great\"\n",
    "print(s+s1,\"\\n\"+s*3)"
   ]
  },
  {
   "cell_type": "markdown",
   "id": "e5151e34",
   "metadata": {},
   "source": [
    "13. What's the difference between tuples and lists?\\\n",
    "tuple:\n",
    "this is immutable type of data i.e. we can't change value of tuple elements.\\\n",
    "we can't add, remove, or change  tuple values.\\\n",
    "They must be declared with () parantheses.\\ \n",
    "list:\n",
    "This is mutable type of data i.e. we can change value of list elements.\\\n",
    "we can add, remove, or change list values.\\\n",
    "they must be declared with []  parantheses.\\ \n",
    "Example:"
   ]
  },
  {
   "cell_type": "code",
   "execution_count": 71,
   "id": "05278764",
   "metadata": {},
   "outputs": [
    {
     "name": "stdout",
     "output_type": "stream",
     "text": [
      "[1, 2, 12]\n"
     ]
    },
    {
     "ename": "AttributeError",
     "evalue": "'tuple' object has no attribute 'append'",
     "output_type": "error",
     "traceback": [
      "\u001b[1;31m---------------------------------------------------------------------------\u001b[0m",
      "\u001b[1;31mAttributeError\u001b[0m                            Traceback (most recent call last)",
      "\u001b[1;32m~\\AppData\\Local\\Temp/ipykernel_724/2511621321.py\u001b[0m in \u001b[0;36m<module>\u001b[1;34m\u001b[0m\n\u001b[0;32m      3\u001b[0m \u001b[0ml2\u001b[0m\u001b[1;33m.\u001b[0m\u001b[0mappend\u001b[0m\u001b[1;33m(\u001b[0m\u001b[1;36m12\u001b[0m\u001b[1;33m)\u001b[0m\u001b[1;33m\u001b[0m\u001b[1;33m\u001b[0m\u001b[0m\n\u001b[0;32m      4\u001b[0m \u001b[0mprint\u001b[0m\u001b[1;33m(\u001b[0m\u001b[0ml2\u001b[0m\u001b[1;33m)\u001b[0m\u001b[1;33m\u001b[0m\u001b[1;33m\u001b[0m\u001b[0m\n\u001b[1;32m----> 5\u001b[1;33m \u001b[0mt\u001b[0m\u001b[1;33m.\u001b[0m\u001b[0mappend\u001b[0m\u001b[1;33m(\u001b[0m\u001b[1;36m3\u001b[0m\u001b[1;33m)\u001b[0m\u001b[1;33m\u001b[0m\u001b[1;33m\u001b[0m\u001b[0m\n\u001b[0m",
      "\u001b[1;31mAttributeError\u001b[0m: 'tuple' object has no attribute 'append'"
     ]
    }
   ],
   "source": [
    "t=(1,2,3)\n",
    "l2=[1,2]\n",
    "l2.append(12)\n",
    "print(l2)\n",
    "t.append(3)"
   ]
  },
  {
   "cell_type": "markdown",
   "id": "e9a748bd",
   "metadata": {},
   "source": [
    "14. How do you type a tuple value that only contains the integer 42?"
   ]
  },
  {
   "cell_type": "code",
   "execution_count": 2,
   "id": "7d743b48",
   "metadata": {},
   "outputs": [
    {
     "data": {
      "text/plain": [
       "tuple"
      ]
     },
     "execution_count": 2,
     "metadata": {},
     "output_type": "execute_result"
    }
   ],
   "source": [
    "t1=(42,) #, is mandate\n",
    "type(t1)"
   ]
  },
  {
   "cell_type": "markdown",
   "id": "20050581",
   "metadata": {},
   "source": [
    "15. How do you get a list value's tuple form? How do you get a tuple value's list form?"
   ]
  },
  {
   "cell_type": "code",
   "execution_count": 3,
   "id": "e5a956fa",
   "metadata": {},
   "outputs": [
    {
     "name": "stdout",
     "output_type": "stream",
     "text": [
      "<class 'list'> <class 'tuple'>\n"
     ]
    }
   ],
   "source": [
    "t1=(1,2,3,4,5)\n",
    "l3=[5,6,7]\n",
    "l3=tuple(l3)\n",
    "t1=list(t1)\n",
    "print(type(t1),type(l3))"
   ]
  },
  {
   "cell_type": "markdown",
   "id": "94f7f92f",
   "metadata": {},
   "source": [
    "16. Variables that \"contain\" list values are not necessarily lists themselves. Instead, what do they contain?"
   ]
  },
  {
   "cell_type": "markdown",
   "id": "1817cd3b",
   "metadata": {},
   "source": [
    "They contain references to list values."
   ]
  },
  {
   "cell_type": "markdown",
   "id": "70fdca8a",
   "metadata": {},
   "source": [
    "17. How do you distinguish between copy.copy() and copy.deepcopy()?"
   ]
  },
  {
   "cell_type": "markdown",
   "id": "4488a2c3",
   "metadata": {},
   "source": [
    "copy.copy():\\\n",
    "The copy.copy() function will do a shallow copy of a list.\\\n",
    "This copy share the same references as those of source object from which the copy was made.\\\n",
    "copy.deepcopy():\\\n",
    "copy.deepcopy() function will do a deep copy of a list. That is, only copy .deepcopy() will duplicate any lists inside the list.\\\n",
    "This type of copy do not share the same references as those of source object from which the copy was made."
   ]
  }
 ],
 "metadata": {
  "kernelspec": {
   "display_name": "Python 3 (ipykernel)",
   "language": "python",
   "name": "python3"
  },
  "language_info": {
   "codemirror_mode": {
    "name": "ipython",
    "version": 3
   },
   "file_extension": ".py",
   "mimetype": "text/x-python",
   "name": "python",
   "nbconvert_exporter": "python",
   "pygments_lexer": "ipython3",
   "version": "3.9.7"
  }
 },
 "nbformat": 4,
 "nbformat_minor": 5
}
